{
  "cells": [
    {
      "cell_type": "markdown",
      "metadata": {
        "id": "qsFqqI3E8Xn4"
      },
      "source": [
        "## Chatbots With LangGraph"
      ]
    },
    {
      "cell_type": "code",
      "execution_count": 2,
      "metadata": {
        "colab": {
          "base_uri": "https://localhost:8080/"
        },
        "id": "TgKIrwXJAjgA",
        "outputId": "7eec3700-d2d7-4ca3-bc2c-875c9cae1dd3"
      },
      "outputs": [
        {
          "name": "stdout",
          "output_type": "stream",
          "text": [
            "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\n"
          ]
        }
      ],
      "source": [
        "import os\n",
        "from dotenv import load_dotenv\n",
        "load_dotenv()\n",
        "groq_api_key=os.getenv('groq_api_key')\n",
        "LANGSMITH_API_KEY=os.getenv('LANGSMITH_API_KEY')\n",
        "LANGCHAIN_API_KEY=os.getenv('LANGCHAIN_API_KEY')\n",
        "print(LANGSMITH_API_KEY)\n"
      ]
    },
    {
      "cell_type": "code",
      "execution_count": 3,
      "metadata": {
        "id": "YFpKBPoZBQAa"
      },
      "outputs": [],
      "source": [
        "import os\n",
        "os.environ[\"LANGCHAIN_API_KEY\"] = LANGCHAIN_API_KEY\n",
        "os.environ[\"LANGCHAIN_TRACING_V2\"]=\"true\"\n",
        "os.environ[\"LANGCHAIN_PROJECT\"]=\"CourseLanggraph\""
      ]
    },
    {
      "cell_type": "code",
      "execution_count": 4,
      "metadata": {
        "id": "XJZl9uX-CFo7"
      },
      "outputs": [],
      "source": [
        "from langchain_groq import ChatGroq"
      ]
    },
    {
      "cell_type": "code",
      "execution_count": 5,
      "metadata": {
        "colab": {
          "base_uri": "https://localhost:8080/"
        },
        "id": "j9vOWf8yCJ4W",
        "outputId": "91931387-650d-4d7a-95de-31735c66ce27"
      },
      "outputs": [
        {
          "data": {
            "text/plain": [
              "ChatGroq(client=<groq.resources.chat.completions.Completions object at 0x000001C67D8C9D90>, async_client=<groq.resources.chat.completions.AsyncCompletions object at 0x000001C67D8DF310>, model_name='Gemma2-9b-It', model_kwargs={}, groq_api_key=SecretStr('**********'))"
            ]
          },
          "execution_count": 5,
          "metadata": {},
          "output_type": "execute_result"
        }
      ],
      "source": [
        "llm=ChatGroq(groq_api_key=groq_api_key,model_name=\"Gemma2-9b-It\")\n",
        "llm"
      ]
    },
    {
      "cell_type": "markdown",
      "metadata": {
        "id": "RDc7RviFCVKB"
      },
      "source": [
        "## Start Building Chatbot Using Langgraph"
      ]
    },
    {
      "cell_type": "code",
      "execution_count": 6,
      "metadata": {
        "id": "bPcSBey6CUeF"
      },
      "outputs": [],
      "source": [
        "from typing import Annotated\n",
        "from typing_extensions import TypedDict\n",
        "from langgraph.graph import StateGraph,START,END\n",
        "from langgraph.graph.message import add_messages"
      ]
    },
    {
      "cell_type": "code",
      "execution_count": 7,
      "metadata": {
        "id": "dVzn-8rrC6-7"
      },
      "outputs": [],
      "source": [
        "class State(TypedDict):\n",
        "  # Messages have the type \"list\". The `add_messages` function\n",
        "    # in the annotation defines how this state key should be updated\n",
        "    # (in this case, it appends messages to the list, rather than overwriting them)\n",
        "  messages:Annotated[list,add_messages]\n",
        "\n",
        "graph_builder=StateGraph(State)\n"
      ]
    },
    {
      "cell_type": "code",
      "execution_count": 8,
      "metadata": {
        "colab": {
          "base_uri": "https://localhost:8080/"
        },
        "id": "vgjwX6BQDcfk",
        "outputId": "10f24dc5-6242-454b-b61c-cfecf260ae22"
      },
      "outputs": [
        {
          "data": {
            "text/plain": [
              "<langgraph.graph.state.StateGraph at 0x1c67d92e400>"
            ]
          },
          "execution_count": 8,
          "metadata": {},
          "output_type": "execute_result"
        }
      ],
      "source": [
        "graph_builder"
      ]
    },
    {
      "cell_type": "code",
      "execution_count": 9,
      "metadata": {
        "id": "oOF74t5GDeJO"
      },
      "outputs": [],
      "source": [
        "def chatbot(state:State):\n",
        "  return {\"messages\":llm.invoke(state['messages'])}"
      ]
    },
    {
      "cell_type": "code",
      "execution_count": 10,
      "metadata": {
        "id": "-m7NDe74EPGW"
      },
      "outputs": [
        {
          "data": {
            "text/plain": [
              "<langgraph.graph.state.StateGraph at 0x1c67d92e400>"
            ]
          },
          "execution_count": 10,
          "metadata": {},
          "output_type": "execute_result"
        }
      ],
      "source": [
        "graph_builder.add_node(\"chatbot\",chatbot)"
      ]
    },
    {
      "cell_type": "code",
      "execution_count": 11,
      "metadata": {
        "colab": {
          "base_uri": "https://localhost:8080/"
        },
        "id": "pKFbmbqcEVIq",
        "outputId": "9f91e0af-022e-4485-8151-db69c5cc3ccb"
      },
      "outputs": [
        {
          "data": {
            "text/plain": [
              "<langgraph.graph.state.StateGraph at 0x1c67d92e400>"
            ]
          },
          "execution_count": 11,
          "metadata": {},
          "output_type": "execute_result"
        }
      ],
      "source": [
        "graph_builder"
      ]
    },
    {
      "cell_type": "code",
      "execution_count": 12,
      "metadata": {
        "id": "3jBWX44IEWy-"
      },
      "outputs": [
        {
          "data": {
            "text/plain": [
              "<langgraph.graph.state.StateGraph at 0x1c67d92e400>"
            ]
          },
          "execution_count": 12,
          "metadata": {},
          "output_type": "execute_result"
        }
      ],
      "source": [
        "graph_builder.add_edge(START,\"chatbot\")\n",
        "graph_builder.add_edge(\"chatbot\",END)"
      ]
    },
    {
      "cell_type": "code",
      "execution_count": 13,
      "metadata": {
        "id": "PN4O63shEtyZ"
      },
      "outputs": [],
      "source": [
        "graph=graph_builder.compile()"
      ]
    },
    {
      "cell_type": "code",
      "execution_count": 14,
      "metadata": {
        "colab": {
          "base_uri": "https://localhost:8080/",
          "height": 236
        },
        "id": "_PPER3gfEygm",
        "outputId": "fbe87a93-4e15-47e7-9cc3-5cebe43ce64f"
      },
      "outputs": [
        {
          "data": {
            "image/png": "[encoded data removed]",
            "text/plain": [
              "<IPython.core.display.Image object>"
            ]
          },
          "metadata": {},
          "output_type": "display_data"
        }
      ],
      "source": [
        "from IPython.display import Image, display\n",
        "try:\n",
        "  display(Image(graph.get_graph().draw_mermaid_png()))\n",
        "except Exception:\n",
        "  pass"
      ]
    },
    {
      "cell_type": "code",
      "execution_count": 15,
      "metadata": {
        "colab": {
          "base_uri": "https://localhost:8080/"
        },
        "id": "aDvjUFmxFCwU",
        "outputId": "c77c0d85-b6f5-4dee-81c5-5c728019aaed"
      },
      "outputs": [
        {
          "name": "stdout",
          "output_type": "stream",
          "text": [
            "dict_values([{'messages': AIMessage(content='Hello! 👋  How can I help you today?\\n', additional_kwargs={}, response_metadata={'token_usage': {'completion_tokens': 14, 'prompt_tokens': 11, 'total_tokens': 25, 'completion_time': 0.025454545, 'prompt_time': 0.001990066, 'queue_time': 0.24931652399999998, 'total_time': 0.027444611}, 'model_name': 'Gemma2-9b-It', 'system_fingerprint': 'fp_10c08bf97d', 'finish_reason': 'stop', 'logprobs': None}, id='run--197c01ee-719e-4825-8acb-f0a7aacd9761-0', usage_metadata={'input_tokens': 11, 'output_tokens': 14, 'total_tokens': 25})}])\n",
            "content='Hello! 👋  How can I help you today?\\n' additional_kwargs={} response_metadata={'token_usage': {'completion_tokens': 14, 'prompt_tokens': 11, 'total_tokens': 25, 'completion_time': 0.025454545, 'prompt_time': 0.001990066, 'queue_time': 0.24931652399999998, 'total_time': 0.027444611}, 'model_name': 'Gemma2-9b-It', 'system_fingerprint': 'fp_10c08bf97d', 'finish_reason': 'stop', 'logprobs': None} id='run--197c01ee-719e-4825-8acb-f0a7aacd9761-0' usage_metadata={'input_tokens': 11, 'output_tokens': 14, 'total_tokens': 25}\n",
            "Assistant: Hello! 👋  How can I help you today?\n",
            "\n",
            "dict_values([{'messages': AIMessage(content='LangChain is an open-source framework designed to simplify the development of applications powered by large language models (LLMs). Think of it as a toolbox filled with components you can use to build sophisticated AI applications.\\n\\nHere\\'s a breakdown of what makes LangChain special:\\n\\n**Key Features:**\\n\\n* **Modular Design:** LangChain breaks down complex tasks into smaller, manageable modules. This allows developers to easily combine different components to create customized workflows.\\n\\n* **Chain Creation:** At its core, LangChain enables you to create \"chains\" – sequences of connected LLMs and other tools. This allows for more complex interactions and reasoning. Imagine a chain that first summarizes a document, then answers questions about it, and finally generates a creative text based on the information.\\n\\n* **Memory Management:** LangChain provides mechanisms to store and retrieve information across multiple interactions with an LLM. This enables your applications to have context and remember past exchanges, leading to more natural and engaging conversations.\\n\\n* **Agent Capabilities:** LangChain empowers you to build \"agents\" – autonomous AI entities that can interact with the world. These agents can access external tools, process information, and make decisions based on their goals.\\n\\n* **Integration with LLMs:** LangChain seamlessly integrates with various LLMs like OpenAI\\'s GPT models, Google\\'s PaLM, and others. This gives you flexibility in choosing the best model for your needs.\\n* **Extensible Ecosystem:** LangChain has a growing community and a vibrant ecosystem of plugins and integrations. This means you can easily add new functionalities and tailor the framework to your specific use cases.\\n\\n**Use Cases:**\\n\\nLangChain\\'s versatility makes it suitable for a wide range of applications:\\n\\n* **Chatbots and Conversational AI:** Build more intelligent and context-aware chatbots.\\n* **Question Answering Systems:** Create systems that can answer complex questions based on given documents or knowledge bases.\\n* **Text Summarization and Analysis:** Summarize large amounts of text or extract key insights.\\n* **Code Generation and Assistance:** Generate code snippets or assist developers in writing code.\\n* **Data Augmentation and Generation:** Generate synthetic data for training machine learning models.\\n\\n**Getting Started:**\\n\\nLangChain is relatively easy to learn and use.\\n\\n* **Documentation:** The official LangChain documentation is comprehensive and well-written: [https://python.langchain.com/](https://python.langchain.com/)\\n* **Examples:** The repository includes numerous examples to get you started quickly.\\n\\n\\nLet me know if you have any more questions about LangChain or want to explore specific use cases in more detail!\\n', additional_kwargs={}, response_metadata={'token_usage': {'completion_tokens': 543, 'prompt_tokens': 14, 'total_tokens': 557, 'completion_time': 0.987272727, 'prompt_time': 0.002016856, 'queue_time': 0.24609110399999998, 'total_time': 0.989289583}, 'model_name': 'Gemma2-9b-It', 'system_fingerprint': 'fp_10c08bf97d', 'finish_reason': 'stop', 'logprobs': None}, id='run--344f57a7-7991-496e-88e5-8c3cb4a7a660-0', usage_metadata={'input_tokens': 14, 'output_tokens': 543, 'total_tokens': 557})}])\n",
            "content='LangChain is an open-source framework designed to simplify the development of applications powered by large language models (LLMs). Think of it as a toolbox filled with components you can use to build sophisticated AI applications.\\n\\nHere\\'s a breakdown of what makes LangChain special:\\n\\n**Key Features:**\\n\\n* **Modular Design:** LangChain breaks down complex tasks into smaller, manageable modules. This allows developers to easily combine different components to create customized workflows.\\n\\n* **Chain Creation:** At its core, LangChain enables you to create \"chains\" – sequences of connected LLMs and other tools. This allows for more complex interactions and reasoning. Imagine a chain that first summarizes a document, then answers questions about it, and finally generates a creative text based on the information.\\n\\n* **Memory Management:** LangChain provides mechanisms to store and retrieve information across multiple interactions with an LLM. This enables your applications to have context and remember past exchanges, leading to more natural and engaging conversations.\\n\\n* **Agent Capabilities:** LangChain empowers you to build \"agents\" – autonomous AI entities that can interact with the world. These agents can access external tools, process information, and make decisions based on their goals.\\n\\n* **Integration with LLMs:** LangChain seamlessly integrates with various LLMs like OpenAI\\'s GPT models, Google\\'s PaLM, and others. This gives you flexibility in choosing the best model for your needs.\\n* **Extensible Ecosystem:** LangChain has a growing community and a vibrant ecosystem of plugins and integrations. This means you can easily add new functionalities and tailor the framework to your specific use cases.\\n\\n**Use Cases:**\\n\\nLangChain\\'s versatility makes it suitable for a wide range of applications:\\n\\n* **Chatbots and Conversational AI:** Build more intelligent and context-aware chatbots.\\n* **Question Answering Systems:** Create systems that can answer complex questions based on given documents or knowledge bases.\\n* **Text Summarization and Analysis:** Summarize large amounts of text or extract key insights.\\n* **Code Generation and Assistance:** Generate code snippets or assist developers in writing code.\\n* **Data Augmentation and Generation:** Generate synthetic data for training machine learning models.\\n\\n**Getting Started:**\\n\\nLangChain is relatively easy to learn and use.\\n\\n* **Documentation:** The official LangChain documentation is comprehensive and well-written: [https://python.langchain.com/](https://python.langchain.com/)\\n* **Examples:** The repository includes numerous examples to get you started quickly.\\n\\n\\nLet me know if you have any more questions about LangChain or want to explore specific use cases in more detail!\\n' additional_kwargs={} response_metadata={'token_usage': {'completion_tokens': 543, 'prompt_tokens': 14, 'total_tokens': 557, 'completion_time': 0.987272727, 'prompt_time': 0.002016856, 'queue_time': 0.24609110399999998, 'total_time': 0.989289583}, 'model_name': 'Gemma2-9b-It', 'system_fingerprint': 'fp_10c08bf97d', 'finish_reason': 'stop', 'logprobs': None} id='run--344f57a7-7991-496e-88e5-8c3cb4a7a660-0' usage_metadata={'input_tokens': 14, 'output_tokens': 543, 'total_tokens': 557}\n",
            "Assistant: LangChain is an open-source framework designed to simplify the development of applications powered by large language models (LLMs). Think of it as a toolbox filled with components you can use to build sophisticated AI applications.\n",
            "\n",
            "Here's a breakdown of what makes LangChain special:\n",
            "\n",
            "**Key Features:**\n",
            "\n",
            "* **Modular Design:** LangChain breaks down complex tasks into smaller, manageable modules. This allows developers to easily combine different components to create customized workflows.\n",
            "\n",
            "* **Chain Creation:** At its core, LangChain enables you to create \"chains\" – sequences of connected LLMs and other tools. This allows for more complex interactions and reasoning. Imagine a chain that first summarizes a document, then answers questions about it, and finally generates a creative text based on the information.\n",
            "\n",
            "* **Memory Management:** LangChain provides mechanisms to store and retrieve information across multiple interactions with an LLM. This enables your applications to have context and remember past exchanges, leading to more natural and engaging conversations.\n",
            "\n",
            "* **Agent Capabilities:** LangChain empowers you to build \"agents\" – autonomous AI entities that can interact with the world. These agents can access external tools, process information, and make decisions based on their goals.\n",
            "\n",
            "* **Integration with LLMs:** LangChain seamlessly integrates with various LLMs like OpenAI's GPT models, Google's PaLM, and others. This gives you flexibility in choosing the best model for your needs.\n",
            "* **Extensible Ecosystem:** LangChain has a growing community and a vibrant ecosystem of plugins and integrations. This means you can easily add new functionalities and tailor the framework to your specific use cases.\n",
            "\n",
            "**Use Cases:**\n",
            "\n",
            "LangChain's versatility makes it suitable for a wide range of applications:\n",
            "\n",
            "* **Chatbots and Conversational AI:** Build more intelligent and context-aware chatbots.\n",
            "* **Question Answering Systems:** Create systems that can answer complex questions based on given documents or knowledge bases.\n",
            "* **Text Summarization and Analysis:** Summarize large amounts of text or extract key insights.\n",
            "* **Code Generation and Assistance:** Generate code snippets or assist developers in writing code.\n",
            "* **Data Augmentation and Generation:** Generate synthetic data for training machine learning models.\n",
            "\n",
            "**Getting Started:**\n",
            "\n",
            "LangChain is relatively easy to learn and use.\n",
            "\n",
            "* **Documentation:** The official LangChain documentation is comprehensive and well-written: [https://python.langchain.com/](https://python.langchain.com/)\n",
            "* **Examples:** The repository includes numerous examples to get you started quickly.\n",
            "\n",
            "\n",
            "Let me know if you have any more questions about LangChain or want to explore specific use cases in more detail!\n",
            "\n",
            "Good Bye\n"
          ]
        }
      ],
      "source": [
        "while True:\n",
        "  user_input=input(\"User: \")\n",
        "  if user_input.lower() in [\"quit\",\"q\"]:\n",
        "    print(\"Good Bye\")\n",
        "    break\n",
        "  for event in graph.stream({'messages':(\"user\",user_input)}):\n",
        "    print(event.values())\n",
        "    for value in event.values():\n",
        "      print(value['messages'])\n",
        "      print(\"Assistant:\",value[\"messages\"].content)"
      ]
    }
  ],
  "metadata": {
    "accelerator": "GPU",
    "colab": {
      "gpuType": "L4",
      "machine_shape": "hm",
      "provenance": []
    },
    "kernelspec": {
      "display_name": "myenv",
      "language": "python",
      "name": "python3"
    },
    "language_info": {
      "codemirror_mode": {
        "name": "ipython",
        "version": 3
      },
      "file_extension": ".py",
      "mimetype": "text/x-python",
      "name": "python",
      "nbconvert_exporter": "python",
      "pygments_lexer": "ipython3",
      "version": "3.9.13"
    }
  },
  "nbformat": 4,
  "nbformat_minor": 0
}
